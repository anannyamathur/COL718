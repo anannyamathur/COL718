{
 "cells": [
  {
   "cell_type": "code",
   "execution_count": 2,
   "metadata": {},
   "outputs": [],
   "source": [
    "import matplotlib as plt\n",
    "import os\n",
    "import json\n",
    "import pandas as pd"
   ]
  },
  {
   "cell_type": "code",
   "execution_count": 4,
   "metadata": {},
   "outputs": [
    {
     "data": {
      "text/html": [
       "<div>\n",
       "<style scoped>\n",
       "    .dataframe tbody tr th:only-of-type {\n",
       "        vertical-align: middle;\n",
       "    }\n",
       "\n",
       "    .dataframe tbody tr th {\n",
       "        vertical-align: top;\n",
       "    }\n",
       "\n",
       "    .dataframe thead th {\n",
       "        text-align: right;\n",
       "    }\n",
       "</style>\n",
       "<table border=\"1\" class=\"dataframe\">\n",
       "  <thead>\n",
       "    <tr style=\"text-align: right;\">\n",
       "      <th></th>\n",
       "      <th>clock frequency in GHz</th>\n",
       "      <th>simSeconds</th>\n",
       "    </tr>\n",
       "  </thead>\n",
       "  <tbody>\n",
       "    <tr>\n",
       "      <th>0</th>\n",
       "      <td>0.6</td>\n",
       "      <td>0.388892</td>\n",
       "    </tr>\n",
       "    <tr>\n",
       "      <th>1</th>\n",
       "      <td>0.8</td>\n",
       "      <td>0.291611</td>\n",
       "    </tr>\n",
       "    <tr>\n",
       "      <th>2</th>\n",
       "      <td>1.0</td>\n",
       "      <td>0.233288</td>\n",
       "    </tr>\n",
       "    <tr>\n",
       "      <th>3</th>\n",
       "      <td>1.2</td>\n",
       "      <td>0.194329</td>\n",
       "    </tr>\n",
       "    <tr>\n",
       "      <th>4</th>\n",
       "      <td>1.4</td>\n",
       "      <td>0.166568</td>\n",
       "    </tr>\n",
       "    <tr>\n",
       "      <th>5</th>\n",
       "      <td>1.6</td>\n",
       "      <td>0.145805</td>\n",
       "    </tr>\n",
       "    <tr>\n",
       "      <th>6</th>\n",
       "      <td>1.8</td>\n",
       "      <td>0.129708</td>\n",
       "    </tr>\n",
       "    <tr>\n",
       "      <th>7</th>\n",
       "      <td>2.0</td>\n",
       "      <td>0.116644</td>\n",
       "    </tr>\n",
       "    <tr>\n",
       "      <th>8</th>\n",
       "      <td>2.2</td>\n",
       "      <td>0.106146</td>\n",
       "    </tr>\n",
       "    <tr>\n",
       "      <th>9</th>\n",
       "      <td>2.4</td>\n",
       "      <td>0.097281</td>\n",
       "    </tr>\n",
       "    <tr>\n",
       "      <th>10</th>\n",
       "      <td>2.6</td>\n",
       "      <td>0.089816</td>\n",
       "    </tr>\n",
       "    <tr>\n",
       "      <th>11</th>\n",
       "      <td>2.8</td>\n",
       "      <td>0.083284</td>\n",
       "    </tr>\n",
       "    <tr>\n",
       "      <th>12</th>\n",
       "      <td>3.0</td>\n",
       "      <td>0.077685</td>\n",
       "    </tr>\n",
       "    <tr>\n",
       "      <th>13</th>\n",
       "      <td>3.2</td>\n",
       "      <td>0.073019</td>\n",
       "    </tr>\n",
       "  </tbody>\n",
       "</table>\n",
       "</div>"
      ],
      "text/plain": [
       "    clock frequency in GHz  simSeconds\n",
       "0                      0.6    0.388892\n",
       "1                      0.8    0.291611\n",
       "2                      1.0    0.233288\n",
       "3                      1.2    0.194329\n",
       "4                      1.4    0.166568\n",
       "5                      1.6    0.145805\n",
       "6                      1.8    0.129708\n",
       "7                      2.0    0.116644\n",
       "8                      2.2    0.106146\n",
       "9                      2.4    0.097281\n",
       "10                     2.6    0.089816\n",
       "11                     2.8    0.083284\n",
       "12                     3.0    0.077685\n",
       "13                     3.2    0.073019"
      ]
     },
     "execution_count": 4,
     "metadata": {},
     "output_type": "execute_result"
    }
   ],
   "source": [
    "\n",
    "rep=\"GHz.json\"\n",
    "l=dict()\n",
    "\n",
    "for file in os.listdir():\n",
    "    if \".json\" in file and \"+\" not in file:\n",
    "        key=file.replace(rep,\"\")\n",
    "        f=open(file)\n",
    "        data=json.load(f)\n",
    "        l[key]=data[\"simSeconds\"]\n",
    "\n",
    "df = pd.DataFrame(\n",
    "    [{\"clock frequency in GHz\": float(freq), \"simSeconds\": sim} for (freq,sim)  in l.items()])\n",
    "\n",
    "df=df.sort_values(by=['clock frequency in GHz'],ascending=True)\n",
    "\n",
    "df = df.reset_index(drop=True)\n",
    "\n",
    "df"
   ]
  },
  {
   "cell_type": "code",
   "execution_count": 5,
   "metadata": {},
   "outputs": [
    {
     "data": {
      "text/plain": [
       "<AxesSubplot:title={'center':'No of seconds simulated vs clock frequency'}, xlabel='clock frequency in GHz'>"
      ]
     },
     "execution_count": 5,
     "metadata": {},
     "output_type": "execute_result"
    },
    {
     "data": {
      "image/png": "[encoded data removed]",
      "text/plain": [
       "<Figure size 432x288 with 1 Axes>"
      ]
     },
     "metadata": {
      "needs_background": "light"
     },
     "output_type": "display_data"
    }
   ],
   "source": [
    "df.plot(x='clock frequency in GHz', y='simSeconds',title = 'No of seconds simulated vs clock frequency')"
   ]
  },
  {
   "cell_type": "code",
   "execution_count": 19,
   "metadata": {},
   "outputs": [
    {
     "data": {
      "text/html": [
       "<div>\n",
       "<style scoped>\n",
       "    .dataframe tbody tr th:only-of-type {\n",
       "        vertical-align: middle;\n",
       "    }\n",
       "\n",
       "    .dataframe tbody tr th {\n",
       "        vertical-align: top;\n",
       "    }\n",
       "\n",
       "    .dataframe thead th {\n",
       "        text-align: right;\n",
       "    }\n",
       "</style>\n",
       "<table border=\"1\" class=\"dataframe\">\n",
       "  <thead>\n",
       "    <tr style=\"text-align: right;\">\n",
       "      <th></th>\n",
       "      <th>Configuration</th>\n",
       "      <th>simSeconds</th>\n",
       "    </tr>\n",
       "  </thead>\n",
       "  <tbody>\n",
       "    <tr>\n",
       "      <th>0</th>\n",
       "      <td>1GHz+Timing+NoCache</td>\n",
       "      <td>9.790468</td>\n",
       "    </tr>\n",
       "    <tr>\n",
       "      <th>1</th>\n",
       "      <td>1GHz+Timing</td>\n",
       "      <td>0.226030</td>\n",
       "    </tr>\n",
       "  </tbody>\n",
       "</table>\n",
       "</div>"
      ],
      "text/plain": [
       "         Configuration  simSeconds\n",
       "0  1GHz+Timing+NoCache    9.790468\n",
       "1          1GHz+Timing    0.226030"
      ]
     },
     "execution_count": 19,
     "metadata": {},
     "output_type": "execute_result"
    }
   ],
   "source": [
    "rep=\".json\"\n",
    "l=dict()\n",
    "\n",
    "for file in os.listdir():\n",
    "    if \"1GHz+Timing.json\" in file or \"1GHz+Timing+NoCache.json\" in file:\n",
    "        key=file.replace(rep,\"\")\n",
    "        f=open(file)\n",
    "        data=json.load(f)\n",
    "        l[key]=data[\"simSeconds\"]\n",
    "\n",
    "df = pd.DataFrame(\n",
    "    [{\"Configuration\": (freq), \"simSeconds\": sim} for (freq,sim)  in l.items()])\n",
    "\n",
    "#df=df.sort_values(by=['clock frequency in GHz'],ascending=True)\n",
    "\n",
    "#df = df.reset_index(drop=True)\n",
    "\n",
    "df"
   ]
  },
  {
   "cell_type": "code",
   "execution_count": 20,
   "metadata": {},
   "outputs": [
    {
     "data": {
      "text/plain": [
       "<AxesSubplot:title={'center':'simSeconds vs configuration'}, xlabel='Configuration'>"
      ]
     },
     "execution_count": 20,
     "metadata": {},
     "output_type": "execute_result"
    },
    {
     "data": {
      "image/png": "[encoded data removed]",
      "text/plain": [
       "<Figure size 432x288 with 1 Axes>"
      ]
     },
     "metadata": {
      "needs_background": "light"
     },
     "output_type": "display_data"
    }
   ],
   "source": [
    "df.plot(x='Configuration', y='simSeconds',title = 'simSeconds vs configuration')"
   ]
  },
  {
   "cell_type": "code",
   "execution_count": 22,
   "metadata": {},
   "outputs": [
    {
     "data": {
      "text/html": [
       "<div>\n",
       "<style scoped>\n",
       "    .dataframe tbody tr th:only-of-type {\n",
       "        vertical-align: middle;\n",
       "    }\n",
       "\n",
       "    .dataframe tbody tr th {\n",
       "        vertical-align: top;\n",
       "    }\n",
       "\n",
       "    .dataframe thead th {\n",
       "        text-align: right;\n",
       "    }\n",
       "</style>\n",
       "<table border=\"1\" class=\"dataframe\">\n",
       "  <thead>\n",
       "    <tr style=\"text-align: right;\">\n",
       "      <th></th>\n",
       "      <th>Configuration</th>\n",
       "      <th>hostInstRate</th>\n",
       "    </tr>\n",
       "  </thead>\n",
       "  <tbody>\n",
       "    <tr>\n",
       "      <th>0</th>\n",
       "      <td>1GHz+Atomic+DDR3</td>\n",
       "      <td>1103946.0</td>\n",
       "    </tr>\n",
       "    <tr>\n",
       "      <th>1</th>\n",
       "      <td>1GHz+Atomic+DDR4</td>\n",
       "      <td>1154578.0</td>\n",
       "    </tr>\n",
       "  </tbody>\n",
       "</table>\n",
       "</div>"
      ],
      "text/plain": [
       "      Configuration  hostInstRate\n",
       "0  1GHz+Atomic+DDR3     1103946.0\n",
       "1  1GHz+Atomic+DDR4     1154578.0"
      ]
     },
     "execution_count": 22,
     "metadata": {},
     "output_type": "execute_result"
    }
   ],
   "source": [
    "rep=\".json\"\n",
    "l=dict()\n",
    "\n",
    "for file in os.listdir():\n",
    "    if \"1GHz+Atomic+DDR3.json\" in file or \"1GHz+Atomic+DDR4.json\" in file:\n",
    "        key=file.replace(rep,\"\")\n",
    "        f=open(file)\n",
    "        data=json.load(f)\n",
    "        l[key]=data[\"hostInstRate \"]\n",
    "\n",
    "df = pd.DataFrame(\n",
    "    [{\"Configuration\": (freq), \"hostInstRate\": sim} for (freq,sim)  in l.items()])\n",
    "\n",
    "#df=df.sort_values(by=['clock frequency in GHz'],ascending=True)\n",
    "\n",
    "#df = df.reset_index(drop=True)\n",
    "\n",
    "df"
   ]
  },
  {
   "cell_type": "code",
   "execution_count": 15,
   "metadata": {},
   "outputs": [
    {
     "data": {
      "text/html": [
       "<div>\n",
       "<style scoped>\n",
       "    .dataframe tbody tr th:only-of-type {\n",
       "        vertical-align: middle;\n",
       "    }\n",
       "\n",
       "    .dataframe tbody tr th {\n",
       "        vertical-align: top;\n",
       "    }\n",
       "\n",
       "    .dataframe thead th {\n",
       "        text-align: right;\n",
       "    }\n",
       "</style>\n",
       "<table border=\"1\" class=\"dataframe\">\n",
       "  <thead>\n",
       "    <tr style=\"text-align: right;\">\n",
       "      <th></th>\n",
       "      <th>CPU Type</th>\n",
       "      <th>Execution Time in s</th>\n",
       "    </tr>\n",
       "  </thead>\n",
       "  <tbody>\n",
       "    <tr>\n",
       "      <th>0</th>\n",
       "      <td>Atomic</td>\n",
       "      <td>0.072903</td>\n",
       "    </tr>\n",
       "    <tr>\n",
       "      <th>1</th>\n",
       "      <td>Minor</td>\n",
       "      <td>2.323170</td>\n",
       "    </tr>\n",
       "    <tr>\n",
       "      <th>2</th>\n",
       "      <td>O3</td>\n",
       "      <td>0.801723</td>\n",
       "    </tr>\n",
       "    <tr>\n",
       "      <th>3</th>\n",
       "      <td>Timing</td>\n",
       "      <td>8.313445</td>\n",
       "    </tr>\n",
       "  </tbody>\n",
       "</table>\n",
       "</div>"
      ],
      "text/plain": [
       "  CPU Type  Execution Time in s\n",
       "0   Atomic             0.072903\n",
       "1    Minor             2.323170\n",
       "2       O3             0.801723\n",
       "3   Timing             8.313445"
      ]
     },
     "execution_count": 15,
     "metadata": {},
     "output_type": "execute_result"
    }
   ],
   "source": [
    "rep=\".json\"\n",
    "l=dict()\n",
    "\n",
    "for file in os.listdir():\n",
    "    if \".json\" in file and \"+\" in file:\n",
    "        key=file.replace(rep,\"\")\n",
    "        key=key.replace(\"3.2GHz+\",\"\")\n",
    "        f=open(file)\n",
    "        data=json.load(f)\n",
    "        ex_time=data[\"simInsts\"]*data[\"board.processor.cores.core.cpi\"]/(data[\"clk_freq\"]*10**9)\n",
    "        l[key]=ex_time\n",
    "\n",
    "df = pd.DataFrame(\n",
    "    [{\"CPU Type\": (freq), \"Execution Time in s\": sim} for (freq,sim)  in l.items()])\n",
    "\n",
    "#df=df.sort_values(by=['clock frequency in GHz'],ascending=True)\n",
    "\n",
    "#df = df.reset_index(drop=True)\n",
    "\n",
    "df"
   ]
  },
  {
   "cell_type": "code",
   "execution_count": 16,
   "metadata": {},
   "outputs": [
    {
     "data": {
      "text/plain": [
       "<AxesSubplot:title={'center':'Execution Time vs CPU Type'}, xlabel='CPU Type'>"
      ]
     },
     "execution_count": 16,
     "metadata": {},
     "output_type": "execute_result"
    },
    {
     "data": {
      "image/png": "[encoded data removed]",
      "text/plain": [
       "<Figure size 432x288 with 1 Axes>"
      ]
     },
     "metadata": {
      "needs_background": "light"
     },
     "output_type": "display_data"
    }
   ],
   "source": [
    "df.plot(x='CPU Type', y='Execution Time in s',title = 'Execution Time vs CPU Type')"
   ]
  },
  {
   "cell_type": "code",
   "execution_count": 14,
   "metadata": {},
   "outputs": [
    {
     "data": {
      "text/html": [
       "<div>\n",
       "<style scoped>\n",
       "    .dataframe tbody tr th:only-of-type {\n",
       "        vertical-align: middle;\n",
       "    }\n",
       "\n",
       "    .dataframe tbody tr th {\n",
       "        vertical-align: top;\n",
       "    }\n",
       "\n",
       "    .dataframe thead th {\n",
       "        text-align: right;\n",
       "    }\n",
       "</style>\n",
       "<table border=\"1\" class=\"dataframe\">\n",
       "  <thead>\n",
       "    <tr style=\"text-align: right;\">\n",
       "      <th></th>\n",
       "      <th>L1/L2 size ratio</th>\n",
       "      <th>simSeconds</th>\n",
       "    </tr>\n",
       "  </thead>\n",
       "  <tbody>\n",
       "    <tr>\n",
       "      <th>0</th>\n",
       "      <td>0.16</td>\n",
       "      <td>0.400774</td>\n",
       "    </tr>\n",
       "    <tr>\n",
       "      <th>1</th>\n",
       "      <td>0.32</td>\n",
       "      <td>0.400774</td>\n",
       "    </tr>\n",
       "    <tr>\n",
       "      <th>2</th>\n",
       "      <td>1.25</td>\n",
       "      <td>0.400846</td>\n",
       "    </tr>\n",
       "  </tbody>\n",
       "</table>\n",
       "</div>"
      ],
      "text/plain": [
       "   L1/L2 size ratio  simSeconds\n",
       "0              0.16    0.400774\n",
       "1              0.32    0.400774\n",
       "2              1.25    0.400846"
      ]
     },
     "execution_count": 14,
     "metadata": {},
     "output_type": "execute_result"
    }
   ],
   "source": [
    "rep=\".json\"\n",
    "l=dict()\n",
    "\n",
    "for file in os.listdir():\n",
    "    if rep in file and \"320\" in file:\n",
    "        f=open(file)\n",
    "        data=json.load(f)\n",
    "        key=data[\"l1\"]/data[\"l2\"]\n",
    "        l[key]=data[\"simSeconds\"]\n",
    "\n",
    "df = pd.DataFrame(\n",
    "    [{\"L1/L2 size ratio\": (freq), \"simSeconds\": sim} for (freq,sim)  in l.items()])\n",
    "\n",
    "df=df.sort_values(by=['L1/L2 size ratio'],ascending=True)\n",
    "\n",
    "df = df.reset_index(drop=True)\n",
    "\n",
    "df"
   ]
  },
  {
   "cell_type": "code",
   "execution_count": 15,
   "metadata": {},
   "outputs": [
    {
     "data": {
      "text/plain": [
       "<AxesSubplot:title={'center':'Simulation Time vs l1/l2 size ratio'}, xlabel='L1/L2 size ratio'>"
      ]
     },
     "execution_count": 15,
     "metadata": {},
     "output_type": "execute_result"
    },
    {
     "data": {
      "image/png": "[encoded data removed]",
      "text/plain": [
       "<Figure size 432x288 with 1 Axes>"
      ]
     },
     "metadata": {
      "needs_background": "light"
     },
     "output_type": "display_data"
    }
   ],
   "source": [
    "df.plot(x='L1/L2 size ratio', y='simSeconds',title = 'Simulation Time vs l1/l2 size ratio')"
   ]
  },
  {
   "cell_type": "code",
   "execution_count": 8,
   "metadata": {},
   "outputs": [
    {
     "data": {
      "text/html": [
       "<div>\n",
       "<style scoped>\n",
       "    .dataframe tbody tr th:only-of-type {\n",
       "        vertical-align: middle;\n",
       "    }\n",
       "\n",
       "    .dataframe tbody tr th {\n",
       "        vertical-align: top;\n",
       "    }\n",
       "\n",
       "    .dataframe thead th {\n",
       "        text-align: right;\n",
       "    }\n",
       "</style>\n",
       "<table border=\"1\" class=\"dataframe\">\n",
       "  <thead>\n",
       "    <tr style=\"text-align: right;\">\n",
       "      <th></th>\n",
       "      <th>latency</th>\n",
       "      <th>hostInstRate</th>\n",
       "    </tr>\n",
       "  </thead>\n",
       "  <tbody>\n",
       "    <tr>\n",
       "      <th>0</th>\n",
       "      <td>4.0</td>\n",
       "      <td>652526.0</td>\n",
       "    </tr>\n",
       "    <tr>\n",
       "      <th>1</th>\n",
       "      <td>8.0</td>\n",
       "      <td>601345.0</td>\n",
       "    </tr>\n",
       "  </tbody>\n",
       "</table>\n",
       "</div>"
      ],
      "text/plain": [
       "   latency  hostInstRate \n",
       "0      4.0       652526.0\n",
       "1      8.0       601345.0"
      ]
     },
     "execution_count": 8,
     "metadata": {},
     "output_type": "execute_result"
    }
   ],
   "source": [
    "rep=\".json\"\n",
    "l=dict()\n",
    "\n",
    "for file in os.listdir():\n",
    "    if rep in file and \"80\" in file and \"256\" in file and (\"4+\" in file or \"8+\" in file):\n",
    "        f=open(file)\n",
    "        data=json.load(f)\n",
    "        key=data[\"latency\"]\n",
    "        l[key]=data[\"hostInstRate \"]\n",
    "\n",
    "df = pd.DataFrame(\n",
    "    [{\"latency\": float(freq), \"hostInstRate \": sim} for (freq,sim)  in l.items()])\n",
    "\n",
    "df=df.sort_values(by=[\"latency\"],ascending=True)\n",
    "\n",
    "df = df.reset_index(drop=True)\n",
    "\n",
    "df"
   ]
  },
  {
   "cell_type": "code",
   "execution_count": 7,
   "metadata": {},
   "outputs": [
    {
     "data": {
      "text/plain": [
       "<AxesSubplot:title={'center':'HostInstRate vs latency'}, xlabel='latency'>"
      ]
     },
     "execution_count": 7,
     "metadata": {},
     "output_type": "execute_result"
    },
    {
     "data": {
      "image/png": "[encoded data removed]",
      "text/plain": [
       "<Figure size 432x288 with 1 Axes>"
      ]
     },
     "metadata": {
      "needs_background": "light"
     },
     "output_type": "display_data"
    }
   ],
   "source": [
    "df.plot(x='latency', y='hostInstRate ',title = 'HostInstRate vs latency')"
   ]
  },
  {
   "cell_type": "code",
   "execution_count": 14,
   "metadata": {},
   "outputs": [
    {
     "data": {
      "text/html": [
       "<div>\n",
       "<style scoped>\n",
       "    .dataframe tbody tr th:only-of-type {\n",
       "        vertical-align: middle;\n",
       "    }\n",
       "\n",
       "    .dataframe tbody tr th {\n",
       "        vertical-align: top;\n",
       "    }\n",
       "\n",
       "    .dataframe thead th {\n",
       "        text-align: right;\n",
       "    }\n",
       "</style>\n",
       "<table border=\"1\" class=\"dataframe\">\n",
       "  <thead>\n",
       "    <tr style=\"text-align: right;\">\n",
       "      <th></th>\n",
       "      <th>assoc</th>\n",
       "      <th>hostInstRate</th>\n",
       "    </tr>\n",
       "  </thead>\n",
       "  <tbody>\n",
       "    <tr>\n",
       "      <th>0</th>\n",
       "      <td>2.0</td>\n",
       "      <td>601345.0</td>\n",
       "    </tr>\n",
       "    <tr>\n",
       "      <th>1</th>\n",
       "      <td>4.0</td>\n",
       "      <td>688392.0</td>\n",
       "    </tr>\n",
       "    <tr>\n",
       "      <th>2</th>\n",
       "      <td>8.0</td>\n",
       "      <td>561770.0</td>\n",
       "    </tr>\n",
       "  </tbody>\n",
       "</table>\n",
       "</div>"
      ],
      "text/plain": [
       "   assoc  hostInstRate \n",
       "0    2.0       601345.0\n",
       "1    4.0       688392.0\n",
       "2    8.0       561770.0"
      ]
     },
     "execution_count": 14,
     "metadata": {},
     "output_type": "execute_result"
    }
   ],
   "source": [
    "rep=\".json\"\n",
    "l=dict()\n",
    "\n",
    "for file in os.listdir():\n",
    "    if rep in file and \"80\" in file and \"256\" in file and (\"2+\" in file) and \"10+2\" not in file and \"2+6\" not in file:\n",
    "        f=open(file)\n",
    "        data=json.load(f)\n",
    "        key=data[\"assoc\"]\n",
    "        l[key]=data[\"hostInstRate \"]\n",
    "\n",
    "df = pd.DataFrame(\n",
    "    [{\"assoc\": float(freq), \"hostInstRate \": sim} for (freq,sim)  in l.items()])\n",
    "\n",
    "df=df.sort_values(by=[\"assoc\"],ascending=True)\n",
    "\n",
    "df = df.reset_index(drop=True)\n",
    "\n",
    "df"
   ]
  },
  {
   "cell_type": "code",
   "execution_count": 15,
   "metadata": {},
   "outputs": [
    {
     "data": {
      "text/plain": [
       "<AxesSubplot:title={'center':'HostInstRate vs assoc'}, xlabel='assoc'>"
      ]
     },
     "execution_count": 15,
     "metadata": {},
     "output_type": "execute_result"
    },
    {
     "data": {
      "image/png": "[encoded data removed]",
      "text/plain": [
       "<Figure size 432x288 with 1 Axes>"
      ]
     },
     "metadata": {
      "needs_background": "light"
     },
     "output_type": "display_data"
    }
   ],
   "source": [
    "df.plot(x='assoc', y='hostInstRate ',title = 'HostInstRate vs assoc')"
   ]
  },
  {
   "cell_type": "code",
   "execution_count": 9,
   "metadata": {},
   "outputs": [
    {
     "data": {
      "text/html": [
       "<div>\n",
       "<style scoped>\n",
       "    .dataframe tbody tr th:only-of-type {\n",
       "        vertical-align: middle;\n",
       "    }\n",
       "\n",
       "    .dataframe tbody tr th {\n",
       "        vertical-align: top;\n",
       "    }\n",
       "\n",
       "    .dataframe thead th {\n",
       "        text-align: right;\n",
       "    }\n",
       "</style>\n",
       "<table border=\"1\" class=\"dataframe\">\n",
       "  <thead>\n",
       "    <tr style=\"text-align: right;\">\n",
       "      <th></th>\n",
       "      <th>Branch Prediction Scheme</th>\n",
       "      <th>simSeconds</th>\n",
       "      <th>CPU Execution Time</th>\n",
       "      <th>predictedTakenIncorrect</th>\n",
       "      <th>branchMispredicts</th>\n",
       "    </tr>\n",
       "  </thead>\n",
       "  <tbody>\n",
       "    <tr>\n",
       "      <th>0</th>\n",
       "      <td>BiModeBP</td>\n",
       "      <td>0.089339</td>\n",
       "      <td>0.089339</td>\n",
       "      <td>132990.0</td>\n",
       "      <td>552718.0</td>\n",
       "    </tr>\n",
       "    <tr>\n",
       "      <th>1</th>\n",
       "      <td>LocalBP</td>\n",
       "      <td>0.094937</td>\n",
       "      <td>0.094937</td>\n",
       "      <td>222453.0</td>\n",
       "      <td>929122.0</td>\n",
       "    </tr>\n",
       "    <tr>\n",
       "      <th>2</th>\n",
       "      <td>LTAGE</td>\n",
       "      <td>0.086869</td>\n",
       "      <td>0.086869</td>\n",
       "      <td>31861.0</td>\n",
       "      <td>281656.0</td>\n",
       "    </tr>\n",
       "    <tr>\n",
       "      <th>3</th>\n",
       "      <td>MPP</td>\n",
       "      <td>0.112481</td>\n",
       "      <td>0.112481</td>\n",
       "      <td>328900.0</td>\n",
       "      <td>2670883.0</td>\n",
       "    </tr>\n",
       "    <tr>\n",
       "      <th>4</th>\n",
       "      <td>MPPTAGE</td>\n",
       "      <td>0.085138</td>\n",
       "      <td>0.085138</td>\n",
       "      <td>44418.0</td>\n",
       "      <td>179781.0</td>\n",
       "    </tr>\n",
       "    <tr>\n",
       "      <th>5</th>\n",
       "      <td>TAGE</td>\n",
       "      <td>0.087320</td>\n",
       "      <td>0.087320</td>\n",
       "      <td>45597.0</td>\n",
       "      <td>308089.0</td>\n",
       "    </tr>\n",
       "    <tr>\n",
       "      <th>6</th>\n",
       "      <td>TournamentBP</td>\n",
       "      <td>0.088780</td>\n",
       "      <td>0.088780</td>\n",
       "      <td>125979.0</td>\n",
       "      <td>457630.0</td>\n",
       "    </tr>\n",
       "  </tbody>\n",
       "</table>\n",
       "</div>"
      ],
      "text/plain": [
       "  Branch Prediction Scheme  simSeconds  CPU Execution Time  \\\n",
       "0                 BiModeBP    0.089339            0.089339   \n",
       "1                  LocalBP    0.094937            0.094937   \n",
       "2                    LTAGE    0.086869            0.086869   \n",
       "3                      MPP    0.112481            0.112481   \n",
       "4                  MPPTAGE    0.085138            0.085138   \n",
       "5                     TAGE    0.087320            0.087320   \n",
       "6             TournamentBP    0.088780            0.088780   \n",
       "\n",
       "   predictedTakenIncorrect  branchMispredicts  \n",
       "0                 132990.0           552718.0  \n",
       "1                 222453.0           929122.0  \n",
       "2                  31861.0           281656.0  \n",
       "3                 328900.0          2670883.0  \n",
       "4                  44418.0           179781.0  \n",
       "5                  45597.0           308089.0  \n",
       "6                 125979.0           457630.0  "
      ]
     },
     "execution_count": 9,
     "metadata": {},
     "output_type": "execute_result"
    }
   ],
   "source": [
    "rep=\".json\"\n",
    "l=dict()\n",
    "\n",
    "for file in os.listdir():\n",
    "    if rep in file:\n",
    "        f=open(file)\n",
    "        data=json.load(f)\n",
    "        key=data[\"bp\"]\n",
    "        if key == \"MultiperspectivePerceptron64KB\":\n",
    "            key=\"MPP\"\n",
    "        elif key == \"MultiperspectivePerceptronTAGE64KB\":\n",
    "            key=\"MPPTAGE\"\n",
    "        ex_time=data[\"simInsts\"]*data[\"board.processor.cores.core.cpi\"]/(data[\"clk_freq\"]*10**9)\n",
    "\n",
    "        val=[data[\"simSeconds\"], ex_time, data['predictedTakenIncorrect'], data['branchMispredicts']]\n",
    "\n",
    "        l[key]=val\n",
    "\n",
    "df = pd.DataFrame(\n",
    "    [{\"Branch Prediction Scheme\": bp, \"simSeconds\": sim[0], \"CPU Execution Time\":sim[1], \"predictedTakenIncorrect\":sim[2]\n",
    "      , \"branchMispredicts\": sim[3] } for (bp,sim)  in l.items()])\n",
    "\n",
    "df"
   ]
  },
  {
   "cell_type": "code",
   "execution_count": 10,
   "metadata": {},
   "outputs": [
    {
     "name": "stderr",
     "output_type": "stream",
     "text": [
      "c:\\Users\\anannya\\AppData\\Local\\Programs\\Python\\Python39\\lib\\site-packages\\pandas\\plotting\\_matplotlib\\core.py:1070: UserWarning: No data for colormapping provided via 'c'. Parameters 'cmap' will be ignored\n",
      "  scatter = ax.scatter(\n"
     ]
    },
    {
     "data": {
      "image/png": "[encoded data removed]",
      "text/plain": [
       "<Figure size 432x288 with 1 Axes>"
      ]
     },
     "metadata": {
      "needs_background": "light"
     },
     "output_type": "display_data"
    },
    {
     "data": {
      "image/png": "[encoded data removed]",
      "text/plain": [
       "<Figure size 432x288 with 1 Axes>"
      ]
     },
     "metadata": {
      "needs_background": "light"
     },
     "output_type": "display_data"
    },
    {
     "data": {
      "image/png": "[encoded data removed]",
      "text/plain": [
       "<Figure size 432x288 with 1 Axes>"
      ]
     },
     "metadata": {
      "needs_background": "light"
     },
     "output_type": "display_data"
    },
    {
     "data": {
      "image/png": "[encoded data removed]",
      "text/plain": [
       "<Figure size 432x288 with 1 Axes>"
      ]
     },
     "metadata": {
      "needs_background": "light"
     },
     "output_type": "display_data"
    }
   ],
   "source": [
    "for col in list(df.columns.values)[1:]:\n",
    "    df.plot.scatter(x='Branch Prediction Scheme', y=col,title = f\"{col} vs Branch Predictors\")"
   ]
  },
  {
   "cell_type": "code",
   "execution_count": 3,
   "metadata": {},
   "outputs": [
    {
     "data": {
      "text/html": [
       "<div>\n",
       "<style scoped>\n",
       "    .dataframe tbody tr th:only-of-type {\n",
       "        vertical-align: middle;\n",
       "    }\n",
       "\n",
       "    .dataframe tbody tr th {\n",
       "        vertical-align: top;\n",
       "    }\n",
       "\n",
       "    .dataframe thead th {\n",
       "        text-align: right;\n",
       "    }\n",
       "</style>\n",
       "<table border=\"1\" class=\"dataframe\">\n",
       "  <thead>\n",
       "    <tr style=\"text-align: right;\">\n",
       "      <th></th>\n",
       "      <th>Branch Prediction Scheme</th>\n",
       "      <th>simSeconds</th>\n",
       "      <th>CPU Execution Time</th>\n",
       "      <th>BTBHitRatio</th>\n",
       "    </tr>\n",
       "  </thead>\n",
       "  <tbody>\n",
       "    <tr>\n",
       "      <th>0</th>\n",
       "      <td>BiModeBP</td>\n",
       "      <td>0.421254</td>\n",
       "      <td>0.421254</td>\n",
       "      <td>0.986120</td>\n",
       "    </tr>\n",
       "    <tr>\n",
       "      <th>1</th>\n",
       "      <td>LocalBP</td>\n",
       "      <td>0.421254</td>\n",
       "      <td>0.421254</td>\n",
       "      <td>0.956159</td>\n",
       "    </tr>\n",
       "    <tr>\n",
       "      <th>2</th>\n",
       "      <td>LTAGE</td>\n",
       "      <td>0.421254</td>\n",
       "      <td>0.421254</td>\n",
       "      <td>0.986151</td>\n",
       "    </tr>\n",
       "    <tr>\n",
       "      <th>3</th>\n",
       "      <td>MPP</td>\n",
       "      <td>0.421254</td>\n",
       "      <td>0.421254</td>\n",
       "      <td>0.986021</td>\n",
       "    </tr>\n",
       "    <tr>\n",
       "      <th>4</th>\n",
       "      <td>MPPTAGE</td>\n",
       "      <td>0.421254</td>\n",
       "      <td>0.421254</td>\n",
       "      <td>0.993249</td>\n",
       "    </tr>\n",
       "    <tr>\n",
       "      <th>5</th>\n",
       "      <td>TAGE</td>\n",
       "      <td>0.421254</td>\n",
       "      <td>0.421254</td>\n",
       "      <td>0.986145</td>\n",
       "    </tr>\n",
       "    <tr>\n",
       "      <th>6</th>\n",
       "      <td>TournamentBP</td>\n",
       "      <td>0.421254</td>\n",
       "      <td>0.421254</td>\n",
       "      <td>0.986181</td>\n",
       "    </tr>\n",
       "  </tbody>\n",
       "</table>\n",
       "</div>"
      ],
      "text/plain": [
       "  Branch Prediction Scheme  simSeconds  CPU Execution Time  BTBHitRatio\n",
       "0                 BiModeBP    0.421254            0.421254     0.986120\n",
       "1                  LocalBP    0.421254            0.421254     0.956159\n",
       "2                    LTAGE    0.421254            0.421254     0.986151\n",
       "3                      MPP    0.421254            0.421254     0.986021\n",
       "4                  MPPTAGE    0.421254            0.421254     0.993249\n",
       "5                     TAGE    0.421254            0.421254     0.986145\n",
       "6             TournamentBP    0.421254            0.421254     0.986181"
      ]
     },
     "execution_count": 3,
     "metadata": {},
     "output_type": "execute_result"
    }
   ],
   "source": [
    "rep=\".json\"\n",
    "l=dict()\n",
    "\n",
    "for file in os.listdir():\n",
    "    if rep in file and \"TimingSimpleCPU\" in file:\n",
    "        f=open(file)\n",
    "        data=json.load(f)\n",
    "        key=data[\"bp\"]\n",
    "        if key == \"MultiperspectivePerceptron64KB\":\n",
    "            key=\"MPP\"\n",
    "        elif key == \"MultiperspectivePerceptronTAGE64KB\":\n",
    "            key=\"MPPTAGE\"\n",
    "        ex_time=data[\"simInsts\"]*data[\"board.processor.cores.core.cpi\"]/(data[\"clk_freq\"]*10**9)\n",
    "\n",
    "        val=[data[\"simSeconds\"], ex_time, data['BTBHitRatio']]\n",
    "\n",
    "        l[key]=val\n",
    "\n",
    "df = pd.DataFrame(\n",
    "    [{\"Branch Prediction Scheme\": bp, \"simSeconds\": sim[0], \"CPU Execution Time\":sim[1], \"BTBHitRatio\":sim[2] } for (bp,sim)  in l.items()])\n",
    "\n",
    "df"
   ]
  },
  {
   "cell_type": "code",
   "execution_count": 6,
   "metadata": {},
   "outputs": [
    {
     "name": "stderr",
     "output_type": "stream",
     "text": [
      "c:\\Users\\anannya\\AppData\\Local\\Programs\\Python\\Python39\\lib\\site-packages\\pandas\\plotting\\_matplotlib\\core.py:1070: UserWarning: No data for colormapping provided via 'c'. Parameters 'cmap' will be ignored\n",
      "  scatter = ax.scatter(\n"
     ]
    },
    {
     "data": {
      "text/plain": [
       "<Axes: title={'center': 'Branch Target Buffer Hit Ratio vs Branch Predictors'}, xlabel='Branch Prediction Scheme', ylabel='BTBHitRatio'>"
      ]
     },
     "execution_count": 6,
     "metadata": {},
     "output_type": "execute_result"
    },
    {
     "data": {
      "image/png": "[encoded data removed]",
      "text/plain": [
       "<Figure size 432x288 with 1 Axes>"
      ]
     },
     "metadata": {
      "needs_background": "light"
     },
     "output_type": "display_data"
    }
   ],
   "source": [
    "df.plot.scatter(x='Branch Prediction Scheme', y=\"BTBHitRatio\",title = \"Branch Target Buffer Hit Ratio vs Branch Predictors\")"
   ]
  },
  {
   "cell_type": "code",
   "execution_count": 7,
   "metadata": {},
   "outputs": [
    {
     "data": {
      "text/html": [
       "<div>\n",
       "<style scoped>\n",
       "    .dataframe tbody tr th:only-of-type {\n",
       "        vertical-align: middle;\n",
       "    }\n",
       "\n",
       "    .dataframe tbody tr th {\n",
       "        vertical-align: top;\n",
       "    }\n",
       "\n",
       "    .dataframe thead th {\n",
       "        text-align: right;\n",
       "    }\n",
       "</style>\n",
       "<table border=\"1\" class=\"dataframe\">\n",
       "  <thead>\n",
       "    <tr style=\"text-align: right;\">\n",
       "      <th></th>\n",
       "      <th>Branch Prediction Scheme</th>\n",
       "      <th>simSeconds</th>\n",
       "      <th>CPU Execution Time</th>\n",
       "      <th>BTBHitRatio</th>\n",
       "    </tr>\n",
       "  </thead>\n",
       "  <tbody>\n",
       "    <tr>\n",
       "      <th>0</th>\n",
       "      <td>BiModeBP</td>\n",
       "      <td>0.233288</td>\n",
       "      <td>0.233288</td>\n",
       "      <td>0.986120</td>\n",
       "    </tr>\n",
       "    <tr>\n",
       "      <th>1</th>\n",
       "      <td>LocalBP</td>\n",
       "      <td>0.233288</td>\n",
       "      <td>0.233288</td>\n",
       "      <td>0.956159</td>\n",
       "    </tr>\n",
       "    <tr>\n",
       "      <th>2</th>\n",
       "      <td>LTAGE</td>\n",
       "      <td>0.233288</td>\n",
       "      <td>0.233288</td>\n",
       "      <td>0.986151</td>\n",
       "    </tr>\n",
       "    <tr>\n",
       "      <th>3</th>\n",
       "      <td>MPP</td>\n",
       "      <td>0.233288</td>\n",
       "      <td>0.233288</td>\n",
       "      <td>0.986021</td>\n",
       "    </tr>\n",
       "    <tr>\n",
       "      <th>4</th>\n",
       "      <td>MPPTAGE</td>\n",
       "      <td>0.233288</td>\n",
       "      <td>0.233288</td>\n",
       "      <td>0.993249</td>\n",
       "    </tr>\n",
       "    <tr>\n",
       "      <th>5</th>\n",
       "      <td>TAGE</td>\n",
       "      <td>0.233288</td>\n",
       "      <td>0.233288</td>\n",
       "      <td>0.986145</td>\n",
       "    </tr>\n",
       "    <tr>\n",
       "      <th>6</th>\n",
       "      <td>TournamentBP</td>\n",
       "      <td>0.233288</td>\n",
       "      <td>0.233288</td>\n",
       "      <td>0.986181</td>\n",
       "    </tr>\n",
       "  </tbody>\n",
       "</table>\n",
       "</div>"
      ],
      "text/plain": [
       "  Branch Prediction Scheme  simSeconds  CPU Execution Time  BTBHitRatio\n",
       "0                 BiModeBP    0.233288            0.233288     0.986120\n",
       "1                  LocalBP    0.233288            0.233288     0.956159\n",
       "2                    LTAGE    0.233288            0.233288     0.986151\n",
       "3                      MPP    0.233288            0.233288     0.986021\n",
       "4                  MPPTAGE    0.233288            0.233288     0.993249\n",
       "5                     TAGE    0.233288            0.233288     0.986145\n",
       "6             TournamentBP    0.233288            0.233288     0.986181"
      ]
     },
     "execution_count": 7,
     "metadata": {},
     "output_type": "execute_result"
    }
   ],
   "source": [
    "rep=\".json\"\n",
    "l=dict()\n",
    "\n",
    "for file in os.listdir():\n",
    "    if rep in file and \"AtomicSimpleCPU\" in file:\n",
    "        f=open(file)\n",
    "        data=json.load(f)\n",
    "        key=data[\"bp\"]\n",
    "        if key == \"MultiperspectivePerceptron64KB\":\n",
    "            key=\"MPP\"\n",
    "        elif key == \"MultiperspectivePerceptronTAGE64KB\":\n",
    "            key=\"MPPTAGE\"\n",
    "        ex_time=data[\"simInsts\"]*data[\"board.processor.cores.core.cpi\"]/(data[\"clk_freq\"]*10**9)\n",
    "\n",
    "        val=[data[\"simSeconds\"], ex_time, data['BTBHitRatio']]\n",
    "\n",
    "        l[key]=val\n",
    "\n",
    "df = pd.DataFrame(\n",
    "    [{\"Branch Prediction Scheme\": bp, \"simSeconds\": sim[0], \"CPU Execution Time\":sim[1], \"BTBHitRatio\":sim[2] } for (bp,sim)  in l.items()])\n",
    "\n",
    "df"
   ]
  },
  {
   "cell_type": "code",
   "execution_count": 8,
   "metadata": {},
   "outputs": [
    {
     "name": "stderr",
     "output_type": "stream",
     "text": [
      "c:\\Users\\anannya\\AppData\\Local\\Programs\\Python\\Python39\\lib\\site-packages\\pandas\\plotting\\_matplotlib\\core.py:1070: UserWarning: No data for colormapping provided via 'c'. Parameters 'cmap' will be ignored\n",
      "  scatter = ax.scatter(\n"
     ]
    },
    {
     "data": {
      "text/plain": [
       "<Axes: title={'center': 'Branch Target Buffer Hit Ratio vs Branch Predictors'}, xlabel='Branch Prediction Scheme', ylabel='BTBHitRatio'>"
      ]
     },
     "execution_count": 8,
     "metadata": {},
     "output_type": "execute_result"
    },
    {
     "data": {
      "image/png": "[encoded data removed]",
      "text/plain": [
       "<Figure size 432x288 with 1 Axes>"
      ]
     },
     "metadata": {
      "needs_background": "light"
     },
     "output_type": "display_data"
    }
   ],
   "source": [
    "df.plot.scatter(x='Branch Prediction Scheme', y=\"BTBHitRatio\",title = \"Branch Target Buffer Hit Ratio vs Branch Predictors\")"
   ]
  }
 ],
 "metadata": {
  "kernelspec": {
   "display_name": "Python 3",
   "language": "python",
   "name": "python3"
  },
  "language_info": {
   "codemirror_mode": {
    "name": "ipython",
    "version": 3
   },
   "file_extension": ".py",
   "mimetype": "text/x-python",
   "name": "python",
   "nbconvert_exporter": "python",
   "pygments_lexer": "ipython3",
   "version": "3.9.5"
  },
  "orig_nbformat": 4
 },
 "nbformat": 4,
 "nbformat_minor": 2
}
